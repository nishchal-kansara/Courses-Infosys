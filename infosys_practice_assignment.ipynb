{
  "nbformat": 4,
  "nbformat_minor": 0,
  "metadata": {
    "colab": {
      "provenance": []
    },
    "kernelspec": {
      "name": "python3",
      "display_name": "Python 3"
    },
    "language_info": {
      "name": "python"
    }
  },
  "cells": [
    {
      "cell_type": "markdown",
      "source": [
        "# Infosys Practice Assignment"
      ],
      "metadata": {
        "id": "PWjAN72rOB75"
      }
    },
    {
      "cell_type": "markdown",
      "source": [
        "# Numpy\n",
        "Lee decides to walk 10000 steps every day to combat the effect that lockdown has had on his body’s agility, mobility, flexibility and strength. Consider the following data from fitness tracker over a period of 10 days![Screenshot 2024-10-08 004443.png](data:image/png;base64,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)"
      ],
      "metadata": {
        "id": "9H6rYAvIf-zz"
      }
    },
    {
      "cell_type": "code",
      "source": [
        "import numpy as np\n",
        "\n",
        "# Creating the array\n",
        "steps_data = np.array([\n",
        "    [1, 6012],\n",
        "    [2, 7079],\n",
        "    [3, 6886],\n",
        "    [4, 7230],\n",
        "    [5, 4598],\n",
        "    [6, 5564],\n",
        "    [7, 6971],\n",
        "    [8, 7763],\n",
        "    [9, 8032],\n",
        "    [10, 9569]\n",
        "])\n",
        "\n",
        "steps_data"
      ],
      "metadata": {
        "colab": {
          "base_uri": "https://localhost:8080/"
        },
        "id": "o9lU-R43gEab",
        "outputId": "292b4dc8-48aa-45f0-acb5-c8b4f2befe45"
      },
      "execution_count": null,
      "outputs": [
        {
          "output_type": "execute_result",
          "data": {
            "text/plain": [
              "array([[   1, 6012],\n",
              "       [   2, 7079],\n",
              "       [   3, 6886],\n",
              "       [   4, 7230],\n",
              "       [   5, 4598],\n",
              "       [   6, 5564],\n",
              "       [   7, 6971],\n",
              "       [   8, 7763],\n",
              "       [   9, 8032],\n",
              "       [  10, 9569]])"
            ]
          },
          "metadata": {},
          "execution_count": 1
        }
      ]
    },
    {
      "cell_type": "code",
      "source": [
        "# Adding 2000 steps to each observation\n",
        "steps_data[:, 1] += 2000\n",
        "\n",
        "steps_data"
      ],
      "metadata": {
        "colab": {
          "base_uri": "https://localhost:8080/"
        },
        "id": "GZqiQc_mgfIE",
        "outputId": "a13282d1-3aa4-4098-c522-39923806f6bc"
      },
      "execution_count": null,
      "outputs": [
        {
          "output_type": "execute_result",
          "data": {
            "text/plain": [
              "array([[    1,  8012],\n",
              "       [    2,  9079],\n",
              "       [    3,  8886],\n",
              "       [    4,  9230],\n",
              "       [    5,  6598],\n",
              "       [    6,  7564],\n",
              "       [    7,  8971],\n",
              "       [    8,  9763],\n",
              "       [    9, 10032],\n",
              "       [   10, 11569]])"
            ]
          },
          "metadata": {},
          "execution_count": 2
        }
      ]
    },
    {
      "cell_type": "code",
      "source": [
        "# Filtering days with steps > 9000\n",
        "steps_over_9000 = steps_data[steps_data[:, 1] > 9000]\n",
        "print(\"Steps walked more than 9000:\\n\", steps_over_9000)"
      ],
      "metadata": {
        "colab": {
          "base_uri": "https://localhost:8080/"
        },
        "id": "CGSi-cA3gh_w",
        "outputId": "4969e5b8-fdc5-4861-e84b-9846db71d9e2"
      },
      "execution_count": null,
      "outputs": [
        {
          "output_type": "stream",
          "name": "stdout",
          "text": [
            "Steps walked more than 9000:\n",
            " [[    2  9079]\n",
            " [    4  9230]\n",
            " [    8  9763]\n",
            " [    9 10032]\n",
            " [   10 11569]]\n"
          ]
        }
      ]
    },
    {
      "cell_type": "code",
      "source": [
        "# Sorting the array by steps walked\n",
        "sorted_steps = steps_data[steps_data[:, 1].argsort()]\n",
        "print(\"Sorted array based on steps walked:\\n\", sorted_steps)"
      ],
      "metadata": {
        "colab": {
          "base_uri": "https://localhost:8080/"
        },
        "id": "2cKNXmkDgk4W",
        "outputId": "237d867d-353d-4616-cabd-38258a3318a6"
      },
      "execution_count": null,
      "outputs": [
        {
          "output_type": "stream",
          "name": "stdout",
          "text": [
            "Sorted array based on steps walked:\n",
            " [[    5  6598]\n",
            " [    6  7564]\n",
            " [    1  8012]\n",
            " [    3  8886]\n",
            " [    7  8971]\n",
            " [    2  9079]\n",
            " [    4  9230]\n",
            " [    8  9763]\n",
            " [    9 10032]\n",
            " [   10 11569]]\n"
          ]
        }
      ]
    },
    {
      "cell_type": "markdown",
      "source": [
        "# Pandas\n",
        "1. Import the data into Python environment as a Pandas DataFrame.\n",
        "2. Check for missing values, if any and drop the corresponding rows.\n",
        "3. Find the district that gets the highest annual rainfall.\n",
        "4. Display the top 5 states that get the highest annual rainfall.\n",
        "5. Drop the columns 'Jan-Feb', 'Mar-May', 'Jun-Sep', 'Oct-Dec'.\n",
        "6. Display the state-wise mean rainfall for all the months using a pivot table.\n",
        "7. Display the count of districts in each state.\n",
        "8. For each state, display the district that gets the highest rainfall in May. Also display the recorded rainfall."
      ],
      "metadata": {
        "id": "rBinCSLogqGo"
      }
    },
    {
      "cell_type": "code",
      "source": [
        "# Mount Drive\n",
        "from google.colab import drive\n",
        "drive.mount('/content/drive')\n",
        "\n",
        "# Import Libraries\n",
        "import pandas as pd\n",
        "\n",
        "# Load the dataset from the provided CSV file path\n",
        "file_path = '/content/drive/MyDrive/Python for Data Science/rainfall.csv'\n",
        "df = pd.read_csv(file_path)"
      ],
      "metadata": {
        "colab": {
          "base_uri": "https://localhost:8080/"
        },
        "id": "nw78SKgYgrdx",
        "outputId": "cfa190e2-fffe-4251-e85b-559f395e041d"
      },
      "execution_count": null,
      "outputs": [
        {
          "output_type": "stream",
          "name": "stdout",
          "text": [
            "Mounted at /content/drive\n"
          ]
        }
      ]
    },
    {
      "cell_type": "code",
      "source": [
        "# Check for missing values\n",
        "missing_values = df.isnull().sum()\n",
        "\n",
        "# Drop rows with missing values\n",
        "df_cleaned = df.dropna()"
      ],
      "metadata": {
        "id": "4_6m9r3dg9f9"
      },
      "execution_count": null,
      "outputs": []
    },
    {
      "cell_type": "code",
      "source": [
        "# Assuming there's a column named 'Annual' that contains the annual rainfall data\n",
        "max_rainfall_district = df_cleaned.loc[df_cleaned['ANNUAL'].idxmax()]\n",
        "print(\"District with the highest annual rainfall:\")\n",
        "print(max_rainfall_district[['DISTRICT', 'ANNUAL']])"
      ],
      "metadata": {
        "colab": {
          "base_uri": "https://localhost:8080/"
        },
        "id": "5EgkaZ2jhAdG",
        "outputId": "67a71f18-27e1-4b68-e109-6b86ce39efeb"
      },
      "execution_count": null,
      "outputs": [
        {
          "output_type": "stream",
          "name": "stdout",
          "text": [
            "District with the highest annual rainfall:\n",
            "DISTRICT    TAMENGLONG\n",
            "ANNUAL          7229.3\n",
            "Name: 55, dtype: object\n"
          ]
        }
      ]
    },
    {
      "cell_type": "code",
      "source": [
        "# Group by 'State' and sum the annual rainfall, then sort to find the top 5\n",
        "top_5_states = df_cleaned.groupby('STATE_UT_NAME')['ANNUAL'].sum().sort_values(ascending=False).head(5)\n",
        "print(\"Top 5 states with the highest annual rainfall:\")\n",
        "print(top_5_states)"
      ],
      "metadata": {
        "colab": {
          "base_uri": "https://localhost:8080/"
        },
        "id": "irCJCyKHhDWM",
        "outputId": "37203c95-26e2-4491-b6cc-66a184a5646a"
      },
      "execution_count": null,
      "outputs": [
        {
          "output_type": "stream",
          "name": "stdout",
          "text": [
            "Top 5 states with the highest annual rainfall:\n",
            "STATE_UT_NAME\n",
            "UTTAR PRADESH        67836.6\n",
            "ASSAM                66267.7\n",
            "MADHYA PRADESH       51615.5\n",
            "ARUNACHAL PRADESH    46838.0\n",
            "BIHAR                45621.1\n",
            "Name: ANNUAL, dtype: float64\n"
          ]
        }
      ]
    },
    {
      "cell_type": "code",
      "source": [
        "# Dropping the specified columns\n",
        "df_cleaned = df_cleaned.drop(columns=['Jan-Feb', 'Mar-May', 'Jun-Sep', 'Oct-Dec'])"
      ],
      "metadata": {
        "id": "Rww5BKZchLU2"
      },
      "execution_count": null,
      "outputs": []
    },
    {
      "cell_type": "code",
      "source": [
        "# Create a pivot table to calculate the mean rainfall for each state across all months\n",
        "statewise_mean_rainfall = df_cleaned.pivot_table(values=['JAN', 'FEB', 'MAR', 'APR', 'MAY', 'JUN', 'JUL', 'AUG', 'SEP', 'OCT', 'NOV', 'DEC'],\n",
        "                                                 index='STATE_UT_NAME', aggfunc='mean')\n",
        "print(\"State-wise mean rainfall for all months:\")\n",
        "print(statewise_mean_rainfall)"
      ],
      "metadata": {
        "colab": {
          "base_uri": "https://localhost:8080/"
        },
        "id": "fodA0tV0hOPV",
        "outputId": "53268e2b-b534-4f25-975c-aa4585fed5e8"
      },
      "execution_count": null,
      "outputs": [
        {
          "output_type": "stream",
          "name": "stdout",
          "text": [
            "State-wise mean rainfall for all months:\n",
            "                                    APR         AUG         DEC        FEB  \\\n",
            "STATE_UT_NAME                                                                \n",
            "ANDAMAN And NICOBAR ISLANDS   86.966667  385.300000  159.733333  33.266667   \n",
            "ANDHRA PRADESH                19.873913  179.426087   15.565217   7.352174   \n",
            "ARUNACHAL PRADESH            275.162500  378.600000   35.956250  93.293750   \n",
            "ASSAM                        181.266667  377.370370   11.440741  31.714815   \n",
            "BIHAR                         16.865789  289.481579    5.786842   9.278947   \n",
            "CHANDIGARH                    14.800000  287.500000   23.400000  38.900000   \n",
            "CHATISGARH                    13.116667  375.338889    5.811111  10.472222   \n",
            "DADAR NAGAR HAVELI             0.000000  655.900000    0.000000   0.300000   \n",
            "DAMAN AND DUI                  0.100000  394.600000    0.450000   0.500000   \n",
            "DELHI                          8.900000  245.500000    8.600000  16.300000   \n",
            "GOA                            7.800000  683.800000   10.200000   0.050000   \n",
            "GUJARAT                        0.507692  257.630769    1.592308   0.392308   \n",
            "HARYANA                        7.619048  190.909524    7.914286  16.457143   \n",
            "HIMACHAL                      47.683333  322.325000   38.225000  80.450000   \n",
            "JAMMU AND KASHMIR             82.268182  167.918182   46.395455  91.645455   \n",
            "JHARKHAND                     18.662500  310.316667    6.704167  16.320833   \n",
            "KARNATAKA                     36.773333  209.256667   11.170000   2.696667   \n",
            "KERALA                       109.021429  417.950000   38.242857  16.200000   \n",
            "LAKSHADWEEP                   48.900000  217.500000   58.800000  14.700000   \n",
            "MADHYA PRADESH                 3.270000  331.048000    8.790000   9.158000   \n",
            "MAHARASHTRA                    6.974286  314.585714    7.417143   3.474286   \n",
            "MANIPUR                      150.766667  451.800000   11.788889  55.122222   \n",
            "MEGHALAYA                    211.228571  584.371429   11.042857  21.685714   \n",
            "MIZORAM                      152.600000  440.588889   15.288889  29.944444   \n",
            "NAGALAND                     134.227273  350.872727   10.354545  27.672727   \n",
            "ORISSA                        36.653333  363.346667    5.136667  22.370000   \n",
            "PONDICHERRY                   12.275000  116.425000  227.350000  25.425000   \n",
            "PUNJAB                        12.160000  172.415000   13.905000  24.480000   \n",
            "RAJASTHAN                      3.303030  194.554545    3.021212   4.721212   \n",
            "SIKKIM                       206.900000  434.600000   20.900000  77.300000   \n",
            "TAMIL NADU                    42.596875   91.571875   96.487500  14.021875   \n",
            "TRIPURA                      220.750000  356.475000   11.125000  33.650000   \n",
            "UTTAR PRADESH                  5.318310  291.232394    6.870423  13.157746   \n",
            "UTTARANCHAL                   29.815385  426.784615   20.830769  49.592308   \n",
            "WEST BENGAL                   56.647368  361.573684    7.363158  19.084211   \n",
            "\n",
            "                                   JAN          JUL         JUN         MAR  \\\n",
            "STATE_UT_NAME                                                                 \n",
            "ANDAMAN And NICOBAR ISLANDS  61.233333   390.566667  418.666667   30.800000   \n",
            "ANDHRA PRADESH                6.321739   185.365217  114.369565   10.095652   \n",
            "ARUNACHAL PRADESH            53.687500   547.581250  491.381250  165.018750   \n",
            "ASSAM                        15.733333   494.844444  465.185185   77.762963   \n",
            "BIHAR                        13.134211   340.836842  168.781579    9.873684   \n",
            "CHANDIGARH                   44.300000   282.400000  120.000000   33.200000   \n",
            "CHATISGARH                   10.377778   375.405556  180.583333   12.977778   \n",
            "DADAR NAGAR HAVELI            0.400000   884.500000  385.100000    0.000000   \n",
            "DAMAN AND DUI                 0.550000   583.100000  276.500000    0.200000   \n",
            "DELHI                        16.400000   220.700000   59.800000   15.300000   \n",
            "GOA                           0.550000  1108.100000  908.100000    0.550000   \n",
            "GUJARAT                       0.784615   333.838462  139.246154    1.142308   \n",
            "HARYANA                      19.485714   180.361905   51.009524   13.738095   \n",
            "HIMACHAL                     81.925000   343.825000  108.683333   87.633333   \n",
            "JAMMU AND KASHMIR            77.977273   172.090909   53.604545  119.986364   \n",
            "JHARKHAND                    15.837500   333.854167  198.775000   16.516667   \n",
            "KARNATAKA                     2.026667   280.700000  204.880000    7.163333   \n",
            "KERALA                        9.542857   724.328571  658.707143   31.071429   \n",
            "LAKSHADWEEP                  20.800000   287.700000  330.200000   11.800000   \n",
            "MADHYA PRADESH               12.892000   311.088000  114.686000    7.486000   \n",
            "MAHARASHTRA                   4.791429   388.894286  240.980000    5.997143   \n",
            "MANIPUR                      22.600000   498.055556  487.088889   82.411111   \n",
            "MEGHALAYA                    14.900000   857.742857  757.228571   74.757143   \n",
            "MIZORAM                      11.566667   452.311111  429.833333   96.255556   \n",
            "NAGALAND                     18.481818   395.036364  340.318182   63.018182   \n",
            "ORISSA                       10.810000   332.316667  212.516667   27.453333   \n",
            "PONDICHERRY                  26.750000    78.025000   47.675000   16.725000   \n",
            "PUNJAB                       25.965000   190.610000   46.325000   25.900000   \n",
            "RAJASTHAN                     5.348485   195.278788   54.096970    3.815152   \n",
            "SIKKIM                       47.550000   499.200000  483.800000  130.600000   \n",
            "TAMIL NADU                   18.906250    72.606250   50.321875   18.068750   \n",
            "TRIPURA                      11.225000   414.975000  465.425000   93.625000   \n",
            "UTTAR PRADESH                17.183099   280.067606   90.770423   10.107042   \n",
            "UTTARANCHAL                  49.892308   432.792308  165.715385   51.669231   \n",
            "WEST BENGAL                  15.031579   412.989474  308.531579   27.973684   \n",
            "\n",
            "                                    MAY         NOV         OCT         SEP  \n",
            "STATE_UT_NAME                                                                \n",
            "ANDAMAN And NICOBAR ISLANDS  358.833333  263.200000  301.100000  421.733333  \n",
            "ANDHRA PRADESH                48.765217   58.965217  138.600000  160.373913  \n",
            "ARUNACHAL PRADESH            300.262500   43.187500  176.768750  366.475000  \n",
            "ASSAM                        333.870370   24.922222  136.448148  303.800000  \n",
            "BIHAR                         51.673684    6.715789   64.747368  223.378947  \n",
            "CHANDIGARH                    30.100000    9.900000   31.800000  154.300000  \n",
            "CHATISGARH                    17.483333    8.494444   61.844444  214.444444  \n",
            "DADAR NAGAR HAVELI             7.400000   10.500000   38.600000  391.400000  \n",
            "DAMAN AND DUI                  4.150000   12.400000   35.550000  227.600000  \n",
            "DELHI                         19.300000    5.600000   20.500000  110.200000  \n",
            "GOA                           87.750000   35.000000  155.700000  280.900000  \n",
            "GUJARAT                        4.803846   10.826923   25.103846  148.473077  \n",
            "HARYANA                       14.642857    5.266667   18.428571   88.723810  \n",
            "HIMACHAL                      54.358333   16.908333   39.308333  150.266667  \n",
            "JAMMU AND KASHMIR             65.136364   27.159091   34.181818   78.254545  \n",
            "JHARKHAND                     45.875000   10.212500   79.404167  250.958333  \n",
            "KARNATAKA                     88.166667   44.350000  143.356667  164.076667  \n",
            "KERALA                       244.728571  151.535714  290.907143  245.157143  \n",
            "LAKSHADWEEP                  171.700000  117.700000  157.100000  163.100000  \n",
            "MADHYA PRADESH                 7.006000   10.042000   35.270000  181.574000  \n",
            "MAHARASHTRA                   19.925714   18.588571   75.648571  191.311429  \n",
            "MANIPUR                      213.377778   56.000000  189.222222  278.400000  \n",
            "MEGHALAYA                    430.042857   39.571429  225.571429  454.700000  \n",
            "MIZORAM                      321.322222   64.633333  229.822222  372.155556  \n",
            "NAGALAND                     213.381818   38.554545  121.154545  227.627273  \n",
            "ORISSA                        70.723333   30.400000  116.056667  238.336667  \n",
            "PONDICHERRY                   40.825000  395.150000  271.950000  119.900000  \n",
            "PUNJAB                        16.165000    6.085000   21.700000   92.835000  \n",
            "RAJASTHAN                     10.627273    6.254545   14.430303   86.145455  \n",
            "SIKKIM                       323.550000   30.950000  209.850000  373.150000  \n",
            "TAMIL NADU                    67.531250  184.625000  186.928125  116.340625  \n",
            "TRIPURA                      391.575000   43.300000  176.650000  260.350000  \n",
            "UTTAR PRADESH                 15.561972    4.576056   45.525352  175.074648  \n",
            "UTTARANCHAL                   58.392308    9.238462   58.838462  204.476923  \n",
            "WEST BENGAL                  139.489474   19.389474  124.373684  317.978947  \n"
          ]
        }
      ]
    },
    {
      "cell_type": "code",
      "source": [
        "# Count the number of districts in each state\n",
        "district_count = df_cleaned['STATE_UT_NAME'].value_counts()\n",
        "print(\"Count of districts in each state:\")\n",
        "print(district_count)"
      ],
      "metadata": {
        "colab": {
          "base_uri": "https://localhost:8080/"
        },
        "id": "TbhpV3Y1hR52",
        "outputId": "f2140484-158e-4daf-f0d9-d5b9f72e2498"
      },
      "execution_count": null,
      "outputs": [
        {
          "output_type": "stream",
          "name": "stdout",
          "text": [
            "Count of districts in each state:\n",
            "STATE_UT_NAME\n",
            "UTTAR PRADESH                  71\n",
            "MADHYA PRADESH                 50\n",
            "BIHAR                          38\n",
            "MAHARASHTRA                    35\n",
            "RAJASTHAN                      33\n",
            "TAMIL NADU                     32\n",
            "KARNATAKA                      30\n",
            "ORISSA                         30\n",
            "ASSAM                          27\n",
            "GUJARAT                        26\n",
            "JHARKHAND                      24\n",
            "ANDHRA PRADESH                 23\n",
            "JAMMU AND KASHMIR              22\n",
            "HARYANA                        21\n",
            "PUNJAB                         20\n",
            "WEST BENGAL                    19\n",
            "CHATISGARH                     18\n",
            "ARUNACHAL PRADESH              16\n",
            "KERALA                         14\n",
            "UTTARANCHAL                    13\n",
            "HIMACHAL                       12\n",
            "NAGALAND                       11\n",
            "MIZORAM                         9\n",
            "MANIPUR                         9\n",
            "DELHI                           9\n",
            "MEGHALAYA                       7\n",
            "SIKKIM                          4\n",
            "TRIPURA                         4\n",
            "PONDICHERRY                     4\n",
            "ANDAMAN And NICOBAR ISLANDS     3\n",
            "GOA                             2\n",
            "DAMAN AND DUI                   2\n",
            "DADAR NAGAR HAVELI              1\n",
            "CHANDIGARH                      1\n",
            "LAKSHADWEEP                     1\n",
            "Name: count, dtype: int64\n"
          ]
        }
      ]
    },
    {
      "cell_type": "code",
      "source": [
        "# Group by 'State' and find the district with the maximum rainfall in May\n",
        "highest_may_rainfall = df_cleaned.loc[df_cleaned.groupby('STATE_UT_NAME')['MAY'].idxmax()][['STATE_UT_NAME', 'DISTRICT', 'MAY']]\n",
        "print(\"District with the highest rainfall in May for each state:\")\n",
        "print(highest_may_rainfall)"
      ],
      "metadata": {
        "colab": {
          "base_uri": "https://localhost:8080/"
        },
        "id": "Jm-vrhzchUvw",
        "outputId": "003073b4-d250-42b8-a63c-1f3f33d1cf3f"
      },
      "execution_count": null,
      "outputs": [
        {
          "output_type": "stream",
          "name": "stdout",
          "text": [
            "District with the highest rainfall in May for each state:\n",
            "                   STATE_UT_NAME       DISTRICT    MAY\n",
            "1    ANDAMAN And NICOBAR ISLANDS  SOUTH ANDAMAN  374.4\n",
            "544               ANDHRA PRADESH  VISAKHAPATNAM   96.6\n",
            "10             ARUNACHAL PRADESH     PAPUM PARE  453.0\n",
            "31                         ASSAM      KARIMGANJ  604.0\n",
            "194                        BIHAR     KISHANGANJ  155.7\n",
            "306                   CHANDIGARH     CHANDIGARH   30.1\n",
            "519                   CHATISGARH         BASTAR   38.6\n",
            "479           DADAR NAGAR HAVELI            DNH    7.4\n",
            "480                DAMAN AND DUI          DAMAN    7.4\n",
            "307                        DELHI      NEW DELHI   19.3\n",
            "488                          GOA      NORTH GOA   94.3\n",
            "458                      GUJARAT          DANGS   12.5\n",
            "303                      HARYANA      PANCHKULA   27.9\n",
            "341                     HIMACHAL  LAHUL & SPITI   91.7\n",
            "349            JAMMU AND KASHMIR      BARAMULLA  111.4\n",
            "154                    JHARKHAND          PAKUR   86.1\n",
            "598                    KARNATAKA          UDUPI  193.8\n",
            "628                       KERALA      ERNAKULAM  300.4\n",
            "640                  LAKSHADWEEP    LAKSHADWEEP  171.7\n",
            "451               MADHYA PRADESH  ANUPPUR(SHAHD   19.9\n",
            "493                  MAHARASHTRA       KOLHAPUR   60.2\n",
            "55                       MANIPUR     TAMENGLONG  539.9\n",
            "46                     MEGHALAYA  EAST KHASI HI  733.7\n",
            "62                       MIZORAM         AIZAWL  351.4\n",
            "75                      NAGALAND          WOKHA  325.6\n",
            "135                       ORISSA       GAJAPATI  136.8\n",
            "592                  PONDICHERRY    PONDICHERRY   43.6\n",
            "325                       PUNJAB       RUPNAGAR   25.6\n",
            "390                    RAJASTHAN      JHUNJHUNU   20.7\n",
            "92                        SIKKIM   NORTH SIKKIM  355.4\n",
            "563                   TAMIL NADU    KANYAKUMARI  141.5\n",
            "82                       TRIPURA  NORTH TRIPURA  440.1\n",
            "234                UTTAR PRADESH      BALRAMPUR   38.6\n",
            "279                  UTTARANCHAL     UTTARKASHI  102.1\n",
            "86                   WEST BENGAL    COOCH BEHAR  345.4\n"
          ]
        }
      ]
    },
    {
      "cell_type": "markdown",
      "source": [
        "# Matplotlib\n",
        "Given the following values for x and y, use Matplotlib to plot the figure :"
      ],
      "metadata": {
        "id": "pDV6C5gWhaUL"
      }
    },
    {
      "cell_type": "code",
      "source": [
        "import numpy as np\n",
        "import matplotlib.pyplot as plt\n",
        "\n",
        "x = np.arange(0.0, 5.0, 0.1)\n",
        "y = np.cos(2 * np.pi * x) * np.exp(-x)\n",
        "\n",
        "plt.plot(x, y)\n",
        "\n",
        "plt.xlabel('x')\n",
        "plt.ylabel('y')\n",
        "plt.title('Cosine with Exponential Decay')\n",
        "\n",
        "plt.show()"
      ],
      "metadata": {
        "colab": {
          "base_uri": "https://localhost:8080/",
          "height": 472
        },
        "id": "yDYmSHqjhgL_",
        "outputId": "3589d43a-6c95-4a11-c095-d2c3c807eddd"
      },
      "execution_count": null,
      "outputs": [
        {
          "output_type": "display_data",
          "data": {
            "text/plain": [
              "<Figure size 640x480 with 1 Axes>"
            ],
            "image/png": "[encoded data removed]"
          },
          "metadata": {}
        }
      ]
    }
  ]
}